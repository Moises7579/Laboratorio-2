{
  "cells": [
    {
      "cell_type": "markdown",
      "metadata": {
        "id": "9L0KhPHmJVNa"
      },
      "source": [
        "# Laboratorio 02 Ejercicio de Regresion Logistica\n",
        "\n",
        "En este laboratorio se aplica lo avanzado en la clase de laboratorio con n>10 y m>20000"
      ]
    },
    {
      "cell_type": "markdown",
      "source": [
        "Importamos las librerias"
      ],
      "metadata": {
        "id": "KOH7qxO0pvSY"
      }
    },
    {
      "cell_type": "code",
      "execution_count": 2,
      "metadata": {
        "id": "Eg6cIE74JVNd"
      },
      "outputs": [],
      "source": [
        "# se utiliza para el manejo de rutas y directorios.\n",
        "import os\n",
        "\n",
        "# Calculo cientifico y vectorial para python\n",
        "import numpy as np\n",
        "\n",
        "# Librerias para graficar\n",
        "from matplotlib import pyplot\n",
        "\n",
        "# Modulo de optimización de scipy\n",
        "from scipy import optimize\n",
        "\n",
        "# le dice a matplotlib que incruste gráficos en el cuaderno\n",
        "%matplotlib inline"
      ]
    },
    {
      "cell_type": "markdown",
      "source": [
        "#Importamos la libreria de pandas para el preprocesamiendo de mi dataset incluido y lo hacemos correr para iniciar el preprocesamiento"
      ],
      "metadata": {
        "id": "H0p1WrBep0K3"
      }
    },
    {
      "cell_type": "code",
      "source": [
        "import pandas as pd\n",
        "import sklearn as skl\n",
        "dataframe = pd.read_csv(\"/content/default of credit card clients prepared.csv\")\n",
        "print(dataframe)"
      ],
      "metadata": {
        "id": "Z4Xnhsr8nKDG"
      },
      "execution_count": null,
      "outputs": []
    },
    {
      "cell_type": "code",
      "source": [
        "print(dataframe.describe())"
      ],
      "metadata": {
        "id": "VnbnlmYdn1oo"
      },
      "execution_count": null,
      "outputs": []
    },
    {
      "cell_type": "markdown",
      "source": [
        "#Cargamos el 80% de los datos para entrenar(24000) \"train\" y cargamos el 20% para probar(6000) \"test\""
      ],
      "metadata": {
        "id": "7yRZjiI9He8k"
      }
    },
    {
      "cell_type": "code",
      "execution_count": null,
      "metadata": {
        "id": "WVzUelTXJVNe"
      },
      "outputs": [],
      "source": [
        "# Cargar datos\n",
        "data = np.loadtxt('/content/default of credit card clients prepared.csv', delimiter=',')\n",
        "# X, y = data[:, 0:8], data[:, 8]\n",
        "X_train, y_train = data[:24000, 0:24], data[:24000, 24]\n",
        "X_test, y_test = data[6000:, 0:24], data[6000:, 24]\n",
        "X = X_train\n",
        "y = y_train\n",
        "print(X)\n",
        "print(y)"
      ]
    },
    {
      "cell_type": "markdown",
      "source": [
        "#Procedemos a graficar"
      ],
      "metadata": {
        "id": "eQXtqe0EJR5p"
      }
    },
    {
      "cell_type": "code",
      "execution_count": 142,
      "metadata": {
        "id": "PU2IfSLdJVNf"
      },
      "outputs": [],
      "source": [
        "def plotData(X, y):\n",
        "    # Gragica los puntos de datos X y y en una nueva figura. Grafica los puntos de datos con * para los positivos y\n",
        "    # o para los negativos.\n",
        "\n",
        "    # Crea una nueva figura\n",
        "    fig = pyplot.figure()\n",
        "\n",
        "    # Find Indices of Positive and Negative Examples\n",
        "    pos = y == 1\n",
        "    neg = y == 0\n",
        "\n",
        "    # Plot Examples\n",
        "    pyplot.plot(X[pos, 0], X[pos, 1], 'k*', lw=2, ms=10)\n",
        "    pyplot.plot(X[neg, 0], X[neg, 1], 'ko', mfc='y', ms=8, mec='k', mew=1)\n"
      ]
    },
    {
      "cell_type": "markdown",
      "metadata": {
        "id": "llREAw-3JVNg"
      },
      "source": [
        "#Se llama a la función implementada para mostrar los datos cargados:"
      ]
    },
    {
      "cell_type": "code",
      "execution_count": null,
      "metadata": {
        "id": "8ynW5qI3JVNg"
      },
      "outputs": [],
      "source": [
        "plotData(X, y)\n",
        "# adiciona etiquetas para los ejes\n",
        "pyplot.xlabel('Variable X')\n",
        "pyplot.ylabel('Variable Y')\n",
        "pyplot.legend(['Positivos', 'Negativos'])\n",
        "pass"
      ]
    },
    {
      "cell_type": "markdown",
      "source": [
        "#Implementamos la Funcion sigmoidea para sacar el costo"
      ],
      "metadata": {
        "id": "-DS8t3VMTLUW"
      }
    },
    {
      "cell_type": "code",
      "execution_count": 144,
      "metadata": {
        "id": "pk9dV23xJVNh"
      },
      "outputs": [],
      "source": [
        "def sigmoid(z):\n",
        "    # Calcula la sigmoide de una entrada z\n",
        "    # convierte la intrada a un arreglo numpy\n",
        "    z = np.array(z)\n",
        "\n",
        "    g = np.zeros(z.shape)\n",
        "\n",
        "    g = 1 / (1 + np.exp(-z))\n",
        "\n",
        "    return g"
      ]
    },
    {
      "cell_type": "code",
      "execution_count": 145,
      "metadata": {
        "colab": {
          "base_uri": "https://localhost:8080/"
        },
        "id": "uIPk61NLJVNh",
        "outputId": "0f500ab7-5c17-44b4-ba89-d05d3b4d803f"
      },
      "outputs": [
        {
          "output_type": "stream",
          "name": "stdout",
          "text": [
            "g( [0, 0.5, 1] ) =  [0.5        0.62245933 0.73105858]\n"
          ]
        }
      ],
      "source": [
        "# Prueba la implementacion de la funcion sigmoid\n",
        "z = [0, 0.5, 1]\n",
        "g = sigmoid(z)\n",
        "\n",
        "print('g(', z, ') = ', g)"
      ]
    },
    {
      "cell_type": "code",
      "source": [
        "def  featureNormalize(X):\n",
        "    X_norm = X.copy()\n",
        "    mu = np.zeros(X.shape[1])\n",
        "    sigma = np.zeros(X.shape[1])\n",
        "\n",
        "    mu = np.mean(X, axis = 0)\n",
        "    sigma = np.std(X, axis = 0)\n",
        "    X_norm = (X - mu) / sigma\n",
        "\n",
        "    return X_norm, mu, sigma"
      ],
      "metadata": {
        "id": "HWF5C5Jt8wNb"
      },
      "execution_count": 146,
      "outputs": []
    },
    {
      "cell_type": "code",
      "source": [
        "# llama featureNormalize con los datos cargados\n",
        "X_norm, mu, sigma = featureNormalize(X)"
      ],
      "metadata": {
        "id": "F-d-0BDK80lH"
      },
      "execution_count": 147,
      "outputs": []
    },
    {
      "cell_type": "markdown",
      "source": [
        "#Calculamos la funcion de costo y Gradiente"
      ],
      "metadata": {
        "id": "v4a5NDmLTT_8"
      }
    },
    {
      "cell_type": "code",
      "execution_count": 148,
      "metadata": {
        "id": "ELtMkiYDJVNi"
      },
      "outputs": [],
      "source": [
        "# Configurar la matriz adecuadamente, y agregar una columna de unos que corresponde al termino de intercepción.\n",
        "m, n = X.shape\n",
        "# Agraga el termino de intercepción a A\n",
        "X = np.concatenate([np.ones((m, 1)), X_norm], axis=1)\n",
        "# X = np.concatenate([np.ones((m, 1)), X], axis=1)"
      ]
    },
    {
      "cell_type": "code",
      "execution_count": 149,
      "metadata": {
        "id": "iqDZRIgjJVNi"
      },
      "outputs": [],
      "source": [
        "def calcularCosto(theta, X, y):\n",
        "    # Inicializar algunos valores utiles\n",
        "    m = y.size  # numero de ejemplos de entrenamiento\n",
        "\n",
        "    J = 0\n",
        "    h = sigmoid(X.dot(theta.T))\n",
        "    J = (1 / m) * np.sum(-y.dot(np.log(h)) - (1 - y).dot(np.log(1 - h)))\n",
        "\n",
        "    return J"
      ]
    },
    {
      "cell_type": "code",
      "execution_count": 150,
      "metadata": {
        "id": "7G4SjTrwJVNi"
      },
      "outputs": [],
      "source": [
        "def descensoGradiente(theta, X, y, alpha, num_iters):\n",
        "    # Inicializa algunos valores\n",
        "    m = y.shape[0] # numero de ejemplos de entrenamiento\n",
        "\n",
        "    # realiza una copia de theta, el cual será acutalizada por el descenso por el gradiente\n",
        "    theta = theta.copy()\n",
        "    J_history = []\n",
        "\n",
        "    for i in range(num_iters):\n",
        "        h = sigmoid(X.dot(theta.T))\n",
        "        theta = theta - (alpha / m) * (h - y).dot(X)\n",
        "\n",
        "        J_history.append(calcularCosto(theta, X, y))\n",
        "    return theta, J_history"
      ]
    },
    {
      "cell_type": "code",
      "execution_count": null,
      "metadata": {
        "scrolled": true,
        "id": "rBUlehg6JVNi"
      },
      "outputs": [],
      "source": [
        "# Elegir algun valor para alpha (probar varias alternativas)\n",
        "alpha = 0.1\n",
        "num_iters = 30000\n",
        "\n",
        "# inicializa theta y ejecuta el descenso por el gradiente\n",
        "theta = np.zeros(25)\n",
        "theta, J_history = descensoGradiente(theta, X, y, alpha, num_iters)\n",
        "\n",
        "# Grafica la convergencia del costo\n",
        "pyplot.plot(np.arange(len(J_history)), J_history, lw=2)\n",
        "pyplot.xlabel('Numero de iteraciones')\n",
        "pyplot.ylabel('Costo J')\n",
        "\n",
        "# Muestra los resultados del descenso por el gradiente\n",
        "print('theta calculado por el descenso por el gradiente: {:s}'.format(str(theta)))"
      ]
    },
    {
      "cell_type": "markdown",
      "source": [
        "#Imprimimos los datos de prueba ( test )"
      ],
      "metadata": {
        "id": "TMs9v4HvTbLE"
      }
    },
    {
      "cell_type": "code",
      "source": [
        "print(\"Variables X test :\")\n",
        "print(X_test)\n",
        "print(\"Variables Y test:\")\n",
        "print(y_test)\n",
        "print(\"theta:\")\n",
        "print(theta)"
      ],
      "metadata": {
        "id": "X0wA1m-yX0J2"
      },
      "execution_count": null,
      "outputs": []
    },
    {
      "cell_type": "code",
      "source": [
        "X_test, y_test = data[6000:, 0:24], data[6000:, 24]\n",
        "print(X_test)"
      ],
      "metadata": {
        "id": "Tk_WZUvrZjac"
      },
      "execution_count": null,
      "outputs": []
    }
  ],
  "metadata": {
    "kernelspec": {
      "display_name": "Python 3",
      "language": "python",
      "name": "python3"
    },
    "language_info": {
      "codemirror_mode": {
        "name": "ipython",
        "version": 3
      },
      "file_extension": ".py",
      "mimetype": "text/x-python",
      "name": "python",
      "nbconvert_exporter": "python",
      "pygments_lexer": "ipython3",
      "version": "3.8.5"
    },
    "colab": {
      "provenance": []
    }
  },
  "nbformat": 4,
  "nbformat_minor": 0
}